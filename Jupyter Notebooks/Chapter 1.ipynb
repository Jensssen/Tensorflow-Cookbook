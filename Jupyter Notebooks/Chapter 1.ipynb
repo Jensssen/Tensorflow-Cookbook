{
 "cells": [
  {
   "cell_type": "markdown",
   "metadata": {},
   "source": [
    "# How TensorFlow Works\n",
    "\n",
    "1. Import or generate datasets\n",
    "2. Transform and normalize data. A normalisation in TF will look like this: data = tf.nn.batch_norm_with_global_normalization(...)\n",
    "3. Partition datasets into train, test and validation sets\n",
    "4. Set algorithm parameters (hypermarameters) like for example: learning_rate, batch_size or iterations...\n",
    "5. Initialize variables and placeholders. TF needs to know what kind of data we want to send, which size it has and so on\n",
    "6. Define the model structure. The model is defined in the TF Graph and describes the neural network\n",
    "7. Declare the loss function. It tells us how fare off our predictions are from the actual values.\n",
    "8. Initialize and train the model. \n",
    "9. Evalueate the model. Check how well our model does with new data or if its underfit or overfit.\n",
    "10. Tune hyperparameters\n",
    "11. Deploy/predict new outcomes"
   ]
  },
  {
   "cell_type": "code",
   "execution_count": null,
   "metadata": {
    "collapsed": true
   },
   "outputs": [],
   "source": [
    "import tensorflow as tf"
   ]
  },
  {
   "cell_type": "markdown",
   "metadata": {},
   "source": [
    "- Create a Tensor"
   ]
  },
  {
   "cell_type": "code",
   "execution_count": 6,
   "metadata": {
    "collapsed": true
   },
   "outputs": [],
   "source": [
    "row_dim = 10\n",
    "col_dim = 10\n",
    "\n",
    "zero_tsr = tf.zeros([row_dim, col_dim])      # Zero filled Tensor\n",
    "\n",
    "ones_tsr = tf.ones([row_dim, col_dim])       # Ones filled Tensor\n",
    "\n",
    "filled_tsr = tf.fill([row_dim, col_dim],42)  # Constant filled Tensor\n",
    "\n",
    "constant_tsr = tf.constant([1,2,3])          # Constant filled Tensor"
   ]
  },
  {
   "cell_type": "markdown",
   "metadata": {},
   "source": [
    "- Initialize a Tensor based on the shape of other Tensors"
   ]
  },
  {
   "cell_type": "code",
   "execution_count": 7,
   "metadata": {
    "collapsed": true
   },
   "outputs": [],
   "source": [
    "zeros_similar = tf.zeros_like(constant_tsr)\n",
    "\n",
    "ones_similar = tf.ones_like(constant_tsr)"
   ]
  },
  {
   "cell_type": "markdown",
   "metadata": {},
   "source": [
    "- Create Sequence Tensors"
   ]
  },
  {
   "cell_type": "code",
   "execution_count": 19,
   "metadata": {},
   "outputs": [],
   "source": [
    "linear_tsr = tf.linspace(10.0, 12.0, 3, name=\"linspace\") # Result will be 3 numbers [10.0, 11.0, 12.0]\n",
    "\n",
    "integer_seq_tsr = tf.range(6,15,3)                       # Result will be 3 numbers [6, 9, 12], Limit value 15 not included!"
   ]
  },
  {
   "cell_type": "markdown",
   "metadata": {},
   "source": [
    "- Random Tensors"
   ]
  },
  {
   "cell_type": "code",
   "execution_count": 33,
   "metadata": {},
   "outputs": [],
   "source": [
    "randunif_tsr = tf.random_uniform([row_dim,col_dim],minval=0,maxval=1) # Creates a random Tensor with uniform distribution \n",
    "#(minval <= x < maxval!!!)\n",
    "\n",
    "randnorm_tsr = tf.random_normal([row_dim,col_dim], mean=0.0, stddev=1.0) # Creates a random Tensor with normal distribution\n",
    "\n",
    "runcnorm_tsr = tf.truncated_normal([row_dim,col_dim],mean=0.0,stddev=1.0) # Creates a random Tensor with normal distributon\n",
    "# values whose magnitude is more than 2 standard deviations from the mean are dropped and re-picked\n",
    "\n",
    "shuffled_output = tf.random_shuffle(constant_tsr) # shuffles the values of a given Tensor\n",
    "\n",
    "\n",
    "#cropped_image = tf.random_crop(IMAGE,[height/2,width/2,3]) # Crop an image and keep the dimensions (3 for an image)"
   ]
  },
  {
   "cell_type": "markdown",
   "metadata": {},
   "source": [
    "- Create a Variable"
   ]
  },
  {
   "cell_type": "code",
   "execution_count": 36,
   "metadata": {
    "collapsed": true
   },
   "outputs": [],
   "source": [
    "my_var = tf.Variable(tf.zeros([2,3]))\n",
    "sess = tf.Session()\n",
    "initialize_op = tf.global_variables_initializer()\n",
    "sess.run(initialize_op)"
   ]
  },
  {
   "cell_type": "code",
   "execution_count": null,
   "metadata": {
    "collapsed": true
   },
   "outputs": [],
   "source": []
  }
 ],
 "metadata": {
  "kernelspec": {
   "display_name": "Python 3",
   "language": "python",
   "name": "python3"
  },
  "language_info": {
   "codemirror_mode": {
    "name": "ipython",
    "version": 3
   },
   "file_extension": ".py",
   "mimetype": "text/x-python",
   "name": "python",
   "nbconvert_exporter": "python",
   "pygments_lexer": "ipython3",
   "version": "3.5.2"
  }
 },
 "nbformat": 4,
 "nbformat_minor": 2
}
