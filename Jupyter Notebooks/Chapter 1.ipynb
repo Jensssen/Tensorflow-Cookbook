{
 "cells": [
  {
   "cell_type": "markdown",
   "metadata": {},
   "source": [
    "# How TensorFlow Works\n",
    "\n",
    "1. Import or generate datasets\n",
    "2. Transform and normalize data. A normalisation in TF will look like this: data = tf.nn.batch_norm_with_global_normalization(...)\n",
    "3. Partition datasets into train, test and validation sets\n",
    "4. Set algorithm parameters (hypermarameters) like for example: learning_rate, batch_size or iterations...\n",
    "5. Initialize variables and placeholders. TF needs to know what kind of data we want to send, which size it has and so on\n",
    "6. Define the model structure. The model is defined in the TF Graph and describes the neural network\n",
    "7. Declare the loss function. It tells us how fare off our predictions are from the actual values.\n",
    "8. Initialize and train the model. \n",
    "9. Evalueate the model. Check how well our model does with new data or if its underfit or overfit.\n",
    "10. Tune hyperparameters\n",
    "11. Deploy/predict new outcomes"
   ]
  },
  {
   "cell_type": "code",
   "execution_count": null,
   "metadata": {
    "collapsed": true
   },
   "outputs": [],
   "source": [
    "import tensorflow as tf"
   ]
  },
  {
   "cell_type": "markdown",
   "metadata": {},
   "source": [
    "- Create a Tensor"
   ]
  },
  {
   "cell_type": "code",
   "execution_count": 52,
   "metadata": {},
   "outputs": [
    {
     "name": "stdout",
     "output_type": "stream",
     "text": [
      "[[ 0.  0.  0.]\n",
      " [ 0.  0.  0.]\n",
      " [ 0.  0.  0.]]\n",
      "\n",
      "[[ 1.  1.  1.]\n",
      " [ 1.  1.  1.]\n",
      " [ 1.  1.  1.]]\n",
      "\n",
      "[[42 42 42]\n",
      " [42 42 42]\n",
      " [42 42 42]]\n",
      "\n",
      "[1 2 3]\n"
     ]
    }
   ],
   "source": [
    "row_dim = 3\n",
    "col_dim = 3\n",
    "\n",
    "zero_tsr = tf.zeros([row_dim, col_dim])      # Zero filled Tensor\n",
    "print(sess.run(zero_tsr))\n",
    "print(\"\")\n",
    "ones_tsr = tf.ones([row_dim, col_dim])       # Ones filled Tensor\n",
    "print(sess.run(ones_tsr))\n",
    "print(\"\")\n",
    "filled_tsr = tf.fill([row_dim, col_dim],42)  # Constant filled Tensor\n",
    "print(sess.run(filled_tsr))\n",
    "print(\"\")\n",
    "constant_tsr = tf.constant([1,2,3])          # Constant filled Tensor\n",
    "print(sess.run(constant_tsr))"
   ]
  },
  {
   "cell_type": "markdown",
   "metadata": {},
   "source": [
    "- Initialize a Tensor based on the shape of other Tensors"
   ]
  },
  {
   "cell_type": "code",
   "execution_count": 54,
   "metadata": {},
   "outputs": [
    {
     "name": "stdout",
     "output_type": "stream",
     "text": [
      "[0 0 0]\n",
      "\n",
      "[1 1 1]\n"
     ]
    }
   ],
   "source": [
    "zeros_similar = tf.zeros_like(constant_tsr)\n",
    "print(sess.run(zeros_similar))\n",
    "print(\"\")\n",
    "ones_similar = tf.ones_like(constant_tsr)\n",
    "print(sess.run(ones_similar))"
   ]
  },
  {
   "cell_type": "markdown",
   "metadata": {},
   "source": [
    "- Create Sequence Tensors"
   ]
  },
  {
   "cell_type": "code",
   "execution_count": 56,
   "metadata": {},
   "outputs": [
    {
     "name": "stdout",
     "output_type": "stream",
     "text": [
      "[ 10.  11.  12.]\n",
      "[ 6  9 12]\n"
     ]
    }
   ],
   "source": [
    "linear_tsr = tf.linspace(10.0, 12.0, 3, name=\"linspace\") # Result will be 3 numbers [10.0, 11.0, 12.0]\n",
    "print(sess.run(linear_tsr))\n",
    "integer_seq_tsr = tf.range(6,15,3)                       # Result will be 3 numbers [6, 9, 12], Limit value 15 not included!\n",
    "print(sess.run(integer_seq_tsr))"
   ]
  },
  {
   "cell_type": "markdown",
   "metadata": {},
   "source": [
    "- Random Tensors"
   ]
  },
  {
   "cell_type": "code",
   "execution_count": 57,
   "metadata": {},
   "outputs": [
    {
     "name": "stdout",
     "output_type": "stream",
     "text": [
      "[[ 0.03712177  0.17883742  0.63075066]\n",
      " [ 0.04665935  0.79237759  0.22698116]\n",
      " [ 0.82523584  0.48768902  0.01578248]]\n",
      "\n",
      "[[ 1.06483698 -0.38931605  0.47574228]\n",
      " [-0.07123046 -0.34095421  1.51829422]\n",
      " [-2.79055071 -0.28556886  0.74464577]]\n",
      "\n",
      "[[ 1.52185285  1.23052967  0.88130879]\n",
      " [-0.31831756  1.59784675  0.07216645]\n",
      " [-0.1374189  -1.84951925  1.00566757]]\n",
      "\n",
      "[2 3 1]\n",
      "\n"
     ]
    }
   ],
   "source": [
    "randunif_tsr = tf.random_uniform([row_dim,col_dim],minval=0,maxval=1) # Creates a random Tensor with uniform distribution \n",
    "#(minval <= x < maxval!!!)\n",
    "print(sess.run(randunif_tsr))\n",
    "print(\"\")\n",
    "randnorm_tsr = tf.random_normal([row_dim,col_dim], mean=0.0, stddev=1.0) # Creates a random Tensor with normal distribution\n",
    "print(sess.run(randnorm_tsr))\n",
    "print(\"\")\n",
    "runcnorm_tsr = tf.truncated_normal([row_dim,col_dim],mean=0.0,stddev=1.0) # Creates a random Tensor with normal distributon\n",
    "# values whose magnitude is more than 2 standard deviations from the mean are dropped and re-picked\n",
    "print(sess.run(runcnorm_tsr))\n",
    "print(\"\")\n",
    "shuffled_output = tf.random_shuffle(constant_tsr) # shuffles the values of a given Tensor\n",
    "print(sess.run(shuffled_output))\n",
    "print(\"\")\n",
    "\n",
    "#cropped_image = tf.random_crop(IMAGE,[height/2,width/2,3]) # Crop an image and keep the dimensions (3 for an image)"
   ]
  },
  {
   "cell_type": "markdown",
   "metadata": {},
   "source": [
    "- Create a Variable"
   ]
  },
  {
   "cell_type": "code",
   "execution_count": 36,
   "metadata": {
    "collapsed": true
   },
   "outputs": [],
   "source": [
    "my_var = tf.Variable(tf.zeros([2,3]))\n",
    "sess = tf.Session()\n",
    "initialize_op = tf.global_variables_initializer()\n",
    "sess.run(initialize_op)"
   ]
  },
  {
   "cell_type": "code",
   "execution_count": 37,
   "metadata": {},
   "outputs": [
    {
     "name": "stdout",
     "output_type": "stream",
     "text": [
      "[[ 1.  0.  0.]\n",
      " [ 0.  1.  0.]\n",
      " [ 0.  0.  1.]]\n"
     ]
    }
   ],
   "source": [
    "identity_matrix = tf.diag([1.0,1.0,1.0])\n",
    "print(sess.run(identity_matrix))"
   ]
  }
 ],
 "metadata": {
  "kernelspec": {
   "display_name": "Python 3",
   "language": "python",
   "name": "python3"
  },
  "language_info": {
   "codemirror_mode": {
    "name": "ipython",
    "version": 3
   },
   "file_extension": ".py",
   "mimetype": "text/x-python",
   "name": "python",
   "nbconvert_exporter": "python",
   "pygments_lexer": "ipython3",
   "version": "3.5.2"
  }
 },
 "nbformat": 4,
 "nbformat_minor": 2
}
